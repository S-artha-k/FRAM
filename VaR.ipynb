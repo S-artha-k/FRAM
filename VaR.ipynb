{
 "cells": [
  {
   "cell_type": "code",
   "execution_count": 1,
   "metadata": {},
   "outputs": [
    {
     "name": "stdout",
     "output_type": "stream",
     "text": [
      "Collecting yfinance\n",
      "  Downloading yfinance-0.2.31-py2.py3-none-any.whl.metadata (11 kB)\n",
      "Requirement already satisfied: pandas>=1.3.0 in c:\\users\\joshi\\appdata\\local\\programs\\python\\python311\\lib\\site-packages (from yfinance) (2.1.0)\n",
      "Requirement already satisfied: numpy>=1.16.5 in c:\\users\\joshi\\appdata\\local\\programs\\python\\python311\\lib\\site-packages (from yfinance) (1.26.0)\n",
      "Requirement already satisfied: requests>=2.31 in c:\\users\\joshi\\appdata\\local\\programs\\python\\python311\\lib\\site-packages (from yfinance) (2.31.0)\n",
      "Collecting multitasking>=0.0.7 (from yfinance)\n",
      "  Downloading multitasking-0.0.11-py3-none-any.whl (8.5 kB)\n",
      "Collecting lxml>=4.9.1 (from yfinance)\n",
      "  Downloading lxml-4.9.3-cp311-cp311-win_amd64.whl.metadata (3.9 kB)\n",
      "Collecting appdirs>=1.4.4 (from yfinance)\n",
      "  Downloading appdirs-1.4.4-py2.py3-none-any.whl (9.6 kB)\n",
      "Requirement already satisfied: pytz>=2022.5 in c:\\users\\joshi\\appdata\\local\\programs\\python\\python311\\lib\\site-packages (from yfinance) (2023.3.post1)\n",
      "Collecting frozendict>=2.3.4 (from yfinance)\n",
      "  Downloading frozendict-2.3.8-py311-none-any.whl (14 kB)\n",
      "Collecting peewee>=3.16.2 (from yfinance)\n",
      "  Downloading peewee-3.17.0.tar.gz (2.9 MB)\n",
      "     ---------------------------------------- 0.0/2.9 MB ? eta -:--:--\n",
      "     --------- ------------------------------ 0.7/2.9 MB 14.2 MB/s eta 0:00:01\n",
      "     ---------------- ----------------------- 1.2/2.9 MB 13.1 MB/s eta 0:00:01\n",
      "     ------------------------ --------------- 1.8/2.9 MB 12.7 MB/s eta 0:00:01\n",
      "     -------------------------------- ------- 2.4/2.9 MB 12.5 MB/s eta 0:00:01\n",
      "     ---------------------------------------  2.9/2.9 MB 12.5 MB/s eta 0:00:01\n",
      "     ---------------------------------------- 2.9/2.9 MB 11.7 MB/s eta 0:00:00\n",
      "  Installing build dependencies: started\n",
      "  Installing build dependencies: finished with status 'done'\n",
      "  Getting requirements to build wheel: started\n",
      "  Getting requirements to build wheel: finished with status 'done'\n",
      "  Preparing metadata (pyproject.toml): started\n",
      "  Preparing metadata (pyproject.toml): finished with status 'done'\n",
      "Requirement already satisfied: beautifulsoup4>=4.11.1 in c:\\users\\joshi\\appdata\\local\\programs\\python\\python311\\lib\\site-packages (from yfinance) (4.12.2)\n",
      "Collecting html5lib>=1.1 (from yfinance)\n",
      "  Downloading html5lib-1.1-py2.py3-none-any.whl (112 kB)\n",
      "     ---------------------------------------- 0.0/112.2 kB ? eta -:--:--\n",
      "     -------------------------------------- 112.2/112.2 kB 6.4 MB/s eta 0:00:00\n",
      "Requirement already satisfied: soupsieve>1.2 in c:\\users\\joshi\\appdata\\local\\programs\\python\\python311\\lib\\site-packages (from beautifulsoup4>=4.11.1->yfinance) (2.5)\n",
      "Requirement already satisfied: six>=1.9 in c:\\users\\joshi\\appdata\\local\\programs\\python\\python311\\lib\\site-packages (from html5lib>=1.1->yfinance) (1.16.0)\n",
      "Requirement already satisfied: webencodings in c:\\users\\joshi\\appdata\\local\\programs\\python\\python311\\lib\\site-packages (from html5lib>=1.1->yfinance) (0.5.1)\n",
      "Requirement already satisfied: python-dateutil>=2.8.2 in c:\\users\\joshi\\appdata\\local\\programs\\python\\python311\\lib\\site-packages (from pandas>=1.3.0->yfinance) (2.8.2)\n",
      "Requirement already satisfied: tzdata>=2022.1 in c:\\users\\joshi\\appdata\\local\\programs\\python\\python311\\lib\\site-packages (from pandas>=1.3.0->yfinance) (2023.3)\n",
      "Requirement already satisfied: charset-normalizer<4,>=2 in c:\\users\\joshi\\appdata\\local\\programs\\python\\python311\\lib\\site-packages (from requests>=2.31->yfinance) (3.2.0)\n",
      "Requirement already satisfied: idna<4,>=2.5 in c:\\users\\joshi\\appdata\\local\\programs\\python\\python311\\lib\\site-packages (from requests>=2.31->yfinance) (3.4)\n",
      "Requirement already satisfied: urllib3<3,>=1.21.1 in c:\\users\\joshi\\appdata\\local\\programs\\python\\python311\\lib\\site-packages (from requests>=2.31->yfinance) (2.0.4)\n",
      "Requirement already satisfied: certifi>=2017.4.17 in c:\\users\\joshi\\appdata\\local\\programs\\python\\python311\\lib\\site-packages (from requests>=2.31->yfinance) (2023.7.22)\n",
      "Downloading yfinance-0.2.31-py2.py3-none-any.whl (65 kB)\n",
      "   ---------------------------------------- 0.0/65.6 kB ? eta -:--:--\n",
      "   ---------------------------------------- 65.6/65.6 kB 3.5 MB/s eta 0:00:00\n",
      "Downloading lxml-4.9.3-cp311-cp311-win_amd64.whl (3.8 MB)\n",
      "   ---------------------------------------- 0.0/3.8 MB ? eta -:--:--\n",
      "   ------ --------------------------------- 0.6/3.8 MB 19.2 MB/s eta 0:00:01\n",
      "   ------------ --------------------------- 1.2/3.8 MB 12.4 MB/s eta 0:00:01\n",
      "   ----------------- ---------------------- 1.6/3.8 MB 13.0 MB/s eta 0:00:01\n",
      "   ---------------------- ----------------- 2.2/3.8 MB 12.5 MB/s eta 0:00:01\n",
      "   ----------------------------- ---------- 2.7/3.8 MB 12.4 MB/s eta 0:00:01\n",
      "   ---------------------------------- ----- 3.2/3.8 MB 12.2 MB/s eta 0:00:01\n",
      "   ---------------------------------------  3.7/3.8 MB 12.6 MB/s eta 0:00:01\n",
      "   ---------------------------------------- 3.8/3.8 MB 12.0 MB/s eta 0:00:00\n",
      "Building wheels for collected packages: peewee\n",
      "  Building wheel for peewee (pyproject.toml): started\n",
      "  Building wheel for peewee (pyproject.toml): finished with status 'done'\n",
      "  Created wheel for peewee: filename=peewee-3.17.0-py3-none-any.whl size=135766 sha256=c6507f27c65fab99a5601d2878e74687e3e1ec0e56b1d47a1175a443a77c7e8b\n",
      "  Stored in directory: c:\\users\\joshi\\appdata\\local\\pip\\cache\\wheels\\02\\20\\23\\74a10d0cd31f5d41c19b92ddf4c138ceff01b9f4675f19dbf5\n",
      "Successfully built peewee\n",
      "Installing collected packages: peewee, multitasking, appdirs, lxml, html5lib, frozendict, yfinance\n",
      "Successfully installed appdirs-1.4.4 frozendict-2.3.8 html5lib-1.1 lxml-4.9.3 multitasking-0.0.11 peewee-3.17.0 yfinance-0.2.31\n"
     ]
    }
   ],
   "source": [
    "!pip install yfinance\n"
   ]
  },
  {
   "cell_type": "code",
   "execution_count": 4,
   "metadata": {},
   "outputs": [
    {
     "name": "stdout",
     "output_type": "stream",
     "text": [
      "Requirement already satisfied: pandas in c:\\users\\joshi\\appdata\\local\\programs\\python\\python311\\lib\\site-packages (2.1.0)\n",
      "Requirement already satisfied: numpy>=1.23.2 in c:\\users\\joshi\\appdata\\local\\programs\\python\\python311\\lib\\site-packages (from pandas) (1.26.0)\n",
      "Requirement already satisfied: python-dateutil>=2.8.2 in c:\\users\\joshi\\appdata\\local\\programs\\python\\python311\\lib\\site-packages (from pandas) (2.8.2)\n",
      "Requirement already satisfied: pytz>=2020.1 in c:\\users\\joshi\\appdata\\local\\programs\\python\\python311\\lib\\site-packages (from pandas) (2023.3.post1)\n",
      "Requirement already satisfied: tzdata>=2022.1 in c:\\users\\joshi\\appdata\\local\\programs\\python\\python311\\lib\\site-packages (from pandas) (2023.3)\n",
      "Requirement already satisfied: six>=1.5 in c:\\users\\joshi\\appdata\\local\\programs\\python\\python311\\lib\\site-packages (from python-dateutil>=2.8.2->pandas) (1.16.0)\n",
      "Collecting pandas_datareader\n",
      "  Downloading pandas_datareader-0.10.0-py3-none-any.whl (109 kB)\n",
      "     ---------------------------------------- 0.0/109.5 kB ? eta -:--:--\n",
      "     ------------- ----------------------- 41.0/109.5 kB 991.0 kB/s eta 0:00:01\n",
      "     -------------------------------------- 109.5/109.5 kB 1.6 MB/s eta 0:00:00\n",
      "Requirement already satisfied: lxml in c:\\users\\joshi\\appdata\\local\\programs\\python\\python311\\lib\\site-packages (from pandas_datareader) (4.9.3)\n",
      "Requirement already satisfied: pandas>=0.23 in c:\\users\\joshi\\appdata\\local\\programs\\python\\python311\\lib\\site-packages (from pandas_datareader) (2.1.0)\n",
      "Requirement already satisfied: requests>=2.19.0 in c:\\users\\joshi\\appdata\\local\\programs\\python\\python311\\lib\\site-packages (from pandas_datareader) (2.31.0)\n",
      "Requirement already satisfied: numpy>=1.23.2 in c:\\users\\joshi\\appdata\\local\\programs\\python\\python311\\lib\\site-packages (from pandas>=0.23->pandas_datareader) (1.26.0)\n",
      "Requirement already satisfied: python-dateutil>=2.8.2 in c:\\users\\joshi\\appdata\\local\\programs\\python\\python311\\lib\\site-packages (from pandas>=0.23->pandas_datareader) (2.8.2)\n",
      "Requirement already satisfied: pytz>=2020.1 in c:\\users\\joshi\\appdata\\local\\programs\\python\\python311\\lib\\site-packages (from pandas>=0.23->pandas_datareader) (2023.3.post1)\n",
      "Requirement already satisfied: tzdata>=2022.1 in c:\\users\\joshi\\appdata\\local\\programs\\python\\python311\\lib\\site-packages (from pandas>=0.23->pandas_datareader) (2023.3)\n",
      "Requirement already satisfied: charset-normalizer<4,>=2 in c:\\users\\joshi\\appdata\\local\\programs\\python\\python311\\lib\\site-packages (from requests>=2.19.0->pandas_datareader) (3.2.0)\n",
      "Requirement already satisfied: idna<4,>=2.5 in c:\\users\\joshi\\appdata\\local\\programs\\python\\python311\\lib\\site-packages (from requests>=2.19.0->pandas_datareader) (3.4)\n",
      "Requirement already satisfied: urllib3<3,>=1.21.1 in c:\\users\\joshi\\appdata\\local\\programs\\python\\python311\\lib\\site-packages (from requests>=2.19.0->pandas_datareader) (2.0.4)\n",
      "Requirement already satisfied: certifi>=2017.4.17 in c:\\users\\joshi\\appdata\\local\\programs\\python\\python311\\lib\\site-packages (from requests>=2.19.0->pandas_datareader) (2023.7.22)\n",
      "Requirement already satisfied: six>=1.5 in c:\\users\\joshi\\appdata\\local\\programs\\python\\python311\\lib\\site-packages (from python-dateutil>=2.8.2->pandas>=0.23->pandas_datareader) (1.16.0)\n",
      "Installing collected packages: pandas_datareader\n",
      "Successfully installed pandas_datareader-0.10.0\n"
     ]
    }
   ],
   "source": [
    "!pip install pandas\n",
    "!pip install pandas_datareader\n",
    "import pandas_datareader as web\n",
    "import pandas as pd\n",
    "import yfinance as yf\n",
    "import numpy as np\n",
    "from datetime import datetime as dt\n",
    "import scipy.stats as st\n",
    "import matplotlib.pyplot as plt"
   ]
  },
  {
   "cell_type": "code",
   "execution_count": 5,
   "metadata": {},
   "outputs": [],
   "source": [
    "#Create our portfolio of equities\n",
    "tickers=[\"ROUTE.NS\",\"TREEHOUSE.NS\"]\n",
    "\n",
    "#Set the number of shares bought of each stock (arbitarary selection)\n",
    "stocks=np.array([150,150])\n",
    "\n"
   ]
  },
  {
   "cell_type": "code",
   "execution_count": 6,
   "metadata": {},
   "outputs": [],
   "source": [
    "#Download the closing prices\n",
    "df=pd.DataFrame()\n",
    "for i in tickers:\n",
    "    tick=yf.Ticker(i)\n",
    "    old=tick.history(start=\"2020-11-02\", end=\"2023-10-26\")['Close']\n",
    "    new=pd.DataFrame(old)\n",
    "    df[i]=new\n",
    "    "
   ]
  },
  {
   "cell_type": "code",
   "execution_count": 7,
   "metadata": {},
   "outputs": [],
   "source": [
    "# Calculate the initial invested value (Assuming we invested our money today)\n",
    "initial_investment=stocks*df.iloc[-1,:]"
   ]
  },
  {
   "cell_type": "code",
   "execution_count": 8,
   "metadata": {},
   "outputs": [
    {
     "name": "stderr",
     "output_type": "stream",
     "text": [
      "C:\\Users\\Public\\Documents\\Wondershare\\CreatorTemp\\ipykernel_28688\\4222342173.py:2: FutureWarning: The default fill_method='pad' in DataFrame.pct_change is deprecated and will be removed in a future version. Call ffill before calling pct_change to retain current behavior and silence this warning.\n",
      "  returns = df.pct_change()\n"
     ]
    }
   ],
   "source": [
    "#Calculate the returns\n",
    "returns = df.pct_change()\n",
    "#Extract the correlation matrix\n",
    "corr_matrix=returns.corr()\n",
    "#Get the standard deviation of the returns\n",
    "st_dev=returns.std()\n",
    "\n",
    "#Declare the confidence and Total Value at Risk Variables\n",
    "conf=[]\n",
    "tot_vaRlist=[]\n"
   ]
  },
  {
   "cell_type": "code",
   "execution_count": 9,
   "metadata": {},
   "outputs": [
    {
     "data": {
      "image/png": "[encoded data removed]",
      "text/plain": [
       "<Figure size 640x480 with 1 Axes>"
      ]
     },
     "metadata": {},
     "output_type": "display_data"
    }
   ],
   "source": [
    "#Run the simulation for calculating VaR for different confidence intervals and get the list of Total VaR for all values(We took confidence intervals ranging from 75 to 100 with a step of .01)\n",
    "for i in range(0,2500):\n",
    "  conf+=[75+i/100]\n",
    "  vaR=st.norm.ppf(conf[i]/100)*st_dev*initial_investment*-1\n",
    "  vaRlist=np.array(vaR)\n",
    "  tot_vaR_sq=np.matmul( np.matmul(vaRlist,corr_matrix.to_numpy()) , np.transpose(vaRlist))\n",
    "  tot_vaR=np.sqrt(tot_vaR_sq)\n",
    "  tot_vaRlist+=[tot_vaR]\n",
    "\n",
    "#Plot the VaR against the different confidence intervals\n",
    "plt.scatter(conf, tot_vaRlist)\n",
    "plt.show()"
   ]
  }
 ],
 "metadata": {
  "kernelspec": {
   "display_name": "Python 3",
   "language": "python",
   "name": "python3"
  },
  "language_info": {
   "codemirror_mode": {
    "name": "ipython",
    "version": 3
   },
   "file_extension": ".py",
   "mimetype": "text/x-python",
   "name": "python",
   "nbconvert_exporter": "python",
   "pygments_lexer": "ipython3",
   "version": "3.11.5"
  }
 },
 "nbformat": 4,
 "nbformat_minor": 2
}
